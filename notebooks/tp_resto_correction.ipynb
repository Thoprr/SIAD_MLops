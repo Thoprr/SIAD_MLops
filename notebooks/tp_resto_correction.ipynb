{
 "cells": [
  {
   "cell_type": "code",
   "execution_count": 1,
   "metadata": {},
   "outputs": [],
   "source": [
    "import pandas as pd\n",
    "import numpy as np\n",
    "import matplotlib.pyplot as plt\n",
    "import os"
   ]
  },
  {
   "cell_type": "code",
   "execution_count": 1,
   "metadata": {},
   "outputs": [],
   "source": [
    "def extract(data_dir, prefix, start_week, end_week):\n",
    "    \"\"\" Extract a temporal slice of data for a given data source.\n",
    "    \n",
    "    Parameters\n",
    "    ----------\n",
    "    data_dir: str\n",
    "        Data directory path.\n",
    "    start_week: int\n",
    "        First week number (included)\n",
    "    end_week: int\n",
    "        Last week number (included)\n",
    "    prefix: str\n",
    "        Data source identification (e.g. restaurant_1)\n",
    "    \"\"\"\n",
    "    df = pd.DataFrame()\n",
    "    \n",
    "    for i in range(start_week, end_week+1):\n",
    "        file_path = os.path.join(data_dir, 'data', f'{prefix}_week_{i}.csv')\n",
    "\n",
    "        if os.path.isfile(file_path):\n",
    "            batch = pd.read_csv(file_path)\n",
    "            df = pd.concat([df, batch], sort=True)\n",
    "    \n",
    "    return df\n",
    "\n",
    "def clean(df):\n",
    "    \"\"\"Clean dataframe.\"\"\"\n",
    "    \n",
    "    df.columns = df.columns.str.lower().str.replace(' ', '_')\n",
    "    df['order_date'] = pd.to_datetime(df['order_date'])\n",
    "    df = df.rename(columns={'order_number': 'order_id'})\n",
    "    df = df.sort_values('order_date')\n",
    "    df['total_product_price'] = df['quantity'] * df['product_price']\n",
    "    df['cash_in'] = df.groupby('order_id')['total_product_price'].transform(np.sum)\n",
    "    df = df.drop(columns=['item_name', 'quantity', 'product_price', \n",
    "                          'total_products', 'total_product_price'],\n",
    "                errors=\"ignore\")\n",
    "    df = df.drop_duplicates()\n",
    "    df = df.reset_index(drop=True)\n",
    "    return df\n",
    "\n",
    "def merge(df1, df2):\n",
    "    df = pd.concat([df1, df2])\n",
    "    df = df.drop(columns = ['order_id'])\n",
    "    df = df.sort_values('order_date')\n",
    "    df = df.reset_index(drop=True)\n",
    "    return df\n",
    "\n",
    "def resample(df): \n",
    "    df = df.resample('1H', on='order_date').sum().reset_index()\n",
    "    return df"
   ]
  },
  {
   "cell_type": "code",
   "execution_count": 3,
   "metadata": {},
   "outputs": [
    {
     "ename": "NameError",
     "evalue": "name 'pd' is not defined",
     "output_type": "error",
     "traceback": [
      "\u001b[1;31m---------------------------------------------------------------------------\u001b[0m",
      "\u001b[1;31mNameError\u001b[0m                                 Traceback (most recent call last)",
      "Cell \u001b[1;32mIn[3], line 2\u001b[0m\n\u001b[0;32m      1\u001b[0m \u001b[38;5;66;03m# Restaurant 1\u001b[39;00m\n\u001b[1;32m----> 2\u001b[0m df1 \u001b[38;5;241m=\u001b[39m extract(data_dir\u001b[38;5;241m=\u001b[39m \u001b[38;5;124m\"\u001b[39m\u001b[38;5;124mdata/\u001b[39m\u001b[38;5;124m\"\u001b[39m,\n\u001b[0;32m      3\u001b[0m        prefix\u001b[38;5;241m=\u001b[39m\u001b[38;5;124m\"\u001b[39m\u001b[38;5;124mrestaurant_1\u001b[39m\u001b[38;5;124m\"\u001b[39m , start_week\u001b[38;5;241m=\u001b[39m\u001b[38;5;241m108\u001b[39m, end_week\u001b[38;5;241m=\u001b[39m\u001b[38;5;241m110\u001b[39m)\n\u001b[0;32m      4\u001b[0m df1 \u001b[38;5;241m=\u001b[39m clean(df1)\n",
      "Cell \u001b[1;32mIn[1], line 15\u001b[0m, in \u001b[0;36mextract\u001b[1;34m(data_dir, prefix, start_week, end_week)\u001b[0m\n\u001b[0;32m      1\u001b[0m \u001b[38;5;28;01mdef\u001b[39;00m \u001b[38;5;21mextract\u001b[39m(data_dir, prefix, start_week, end_week):\n\u001b[0;32m      2\u001b[0m \u001b[38;5;250m    \u001b[39m\u001b[38;5;124;03m\"\"\" Extract a temporal slice of data for a given data source.\u001b[39;00m\n\u001b[0;32m      3\u001b[0m \u001b[38;5;124;03m    \u001b[39;00m\n\u001b[0;32m      4\u001b[0m \u001b[38;5;124;03m    Parameters\u001b[39;00m\n\u001b[1;32m   (...)\u001b[0m\n\u001b[0;32m     13\u001b[0m \u001b[38;5;124;03m        Data source identification (e.g. restaurant_1)\u001b[39;00m\n\u001b[0;32m     14\u001b[0m \u001b[38;5;124;03m    \"\"\"\u001b[39;00m\n\u001b[1;32m---> 15\u001b[0m     df \u001b[38;5;241m=\u001b[39m pd\u001b[38;5;241m.\u001b[39mDataFrame()\n\u001b[0;32m     17\u001b[0m     \u001b[38;5;28;01mfor\u001b[39;00m i \u001b[38;5;129;01min\u001b[39;00m \u001b[38;5;28mrange\u001b[39m(start_week, end_week\u001b[38;5;241m+\u001b[39m\u001b[38;5;241m1\u001b[39m):\n\u001b[0;32m     18\u001b[0m         file_path \u001b[38;5;241m=\u001b[39m os\u001b[38;5;241m.\u001b[39mpath\u001b[38;5;241m.\u001b[39mjoin(data_dir, \u001b[38;5;124m'\u001b[39m\u001b[38;5;124mdata\u001b[39m\u001b[38;5;124m'\u001b[39m, \u001b[38;5;124mf\u001b[39m\u001b[38;5;124m'\u001b[39m\u001b[38;5;132;01m{\u001b[39;00mprefix\u001b[38;5;132;01m}\u001b[39;00m\u001b[38;5;124m_week_\u001b[39m\u001b[38;5;132;01m{\u001b[39;00mi\u001b[38;5;132;01m}\u001b[39;00m\u001b[38;5;124m.csv\u001b[39m\u001b[38;5;124m'\u001b[39m)\n",
      "\u001b[1;31mNameError\u001b[0m: name 'pd' is not defined"
     ]
    }
   ],
   "source": [
    "# Restaurant 1\n",
    "df1 = extract(data_dir= \"data/\",\n",
    "       prefix=\"restaurant_1\" , start_week=108, end_week=110)\n",
    "df1 = clean(df1)"
   ]
  },
  {
   "cell_type": "code",
   "execution_count": null,
   "metadata": {},
   "outputs": [],
   "source": [
    "# Restaurant 2\n",
    "df2 = extract(data_dir= \"/Users/CORENTIN/data-corentinv/tp-intro-mlops\",\n",
    "       prefix=\"restaurant_2\" , start_week=108, end_week=110)\n",
    "df2 = clean(df2)"
   ]
  },
  {
   "cell_type": "code",
   "execution_count": null,
   "metadata": {},
   "outputs": [],
   "source": [
    "df = merge(df1, df2)\n",
    "df"
   ]
  },
  {
   "cell_type": "code",
   "execution_count": null,
   "metadata": {},
   "outputs": [],
   "source": [
    "df = resample(df)\n",
    "df.head()"
   ]
  }
 ],
 "metadata": {
  "kernelspec": {
   "display_name": "base",
   "language": "python",
   "name": "python3"
  },
  "language_info": {
   "codemirror_mode": {
    "name": "ipython",
    "version": 3
   },
   "file_extension": ".py",
   "mimetype": "text/x-python",
   "name": "python",
   "nbconvert_exporter": "python",
   "pygments_lexer": "ipython3",
   "version": "3.11.9"
  }
 },
 "nbformat": 4,
 "nbformat_minor": 2
}
