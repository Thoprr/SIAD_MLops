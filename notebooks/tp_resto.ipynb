{
 "cells": [
  {
   "cell_type": "code",
   "execution_count": 5,
   "metadata": {},
   "outputs": [],
   "source": [
    "import pandas as pd\n",
    "from prophet import Prophet\n",
    "import matplotlib.pyplot as plt\n",
    "import os\n",
    "\n",
    "# Dossier contenant les fichiers CSV\n",
    "data_folder = 'data'\n",
    "\n",
    "# Initialiser une liste pour stocker les DataFrames\n",
    "dfs = []\n",
    "\n",
    "# Boucler sur tous les fichiers CSV dans le dossier\n",
    "for file in os.listdir(data_folder):\n",
    "    if file.endswith('.csv'):\n",
    "        # Construire le chemin complet du fichier\n",
    "        file_path = os.path.join(data_folder, file)\n",
    "        # Charger le fichier CSV dans un DataFrame\n",
    "        df = pd.read_csv(file_path)\n",
    "        # Ajouter le DataFrame à la liste\n",
    "        dfs.append(df)\n",
    "\n",
    "# Combiner tous les DataFrames en un seul\n",
    "combined_df = pd.concat(dfs, ignore_index=True)\n",
    "\n",
    "# Convertir les dates en datetime et calculer le chiffre d'affaires\n",
    "combined_df['Order Date'] = pd.to_datetime(combined_df['Order Date'])\n",
    "combined_df['Revenue'] = combined_df['Quantity'] * combined_df['Product Price']\n",
    "\n",
    "# Agréger les données par semaine\n",
    "weekly_revenue = combined_df.groupby(pd.Grouper(key='Order Date', freq='W'))['Revenue'].sum().reset_index()"
   ]
  },
  {
   "cell_type": "code",
   "execution_count": 6,
   "metadata": {},
   "outputs": [
    {
     "name": "stderr",
     "output_type": "stream",
     "text": [
      "17:33:39 - cmdstanpy - INFO - Chain [1] start processing\n",
      "17:33:39 - cmdstanpy - INFO - Chain [1] done processing\n",
      "17:33:39 - cmdstanpy - ERROR - Chain [1] error: terminated by signal 3221225653 \n",
      "Optimization terminated abnormally. Falling back to Newton.\n",
      "17:33:39 - cmdstanpy - INFO - Chain [1] start processing\n",
      "17:33:39 - cmdstanpy - INFO - Chain [1] done processing\n",
      "17:33:39 - cmdstanpy - ERROR - Chain [1] error: terminated by signal 3221225653 \n"
     ]
    },
    {
     "ename": "RuntimeError",
     "evalue": "Error during optimization! Command 'C:\\Logiciels\\anaconda3\\Lib\\site-packages\\prophet\\stan_model\\prophet_model.bin random seed=72574 data file=C:\\Users\\146657\\AppData\\Local\\Temp\\tmp8frkr000\\qpt6wpd2.json init=C:\\Users\\146657\\AppData\\Local\\Temp\\tmp8frkr000\\urydphkz.json output file=C:\\Users\\146657\\AppData\\Local\\Temp\\tmp8frkr000\\prophet_model92h34cm2\\prophet_model-20240925173339.csv method=optimize algorithm=newton iter=10000' failed: ",
     "output_type": "error",
     "traceback": [
      "\u001b[1;31m---------------------------------------------------------------------------\u001b[0m",
      "\u001b[1;31mRuntimeError\u001b[0m                              Traceback (most recent call last)",
      "File \u001b[1;32mc:\\Logiciels\\anaconda3\\Lib\\site-packages\\prophet\\models.py:121\u001b[0m, in \u001b[0;36mCmdStanPyBackend.fit\u001b[1;34m(self, stan_init, stan_data, **kwargs)\u001b[0m\n\u001b[0;32m    120\u001b[0m \u001b[38;5;28;01mtry\u001b[39;00m:\n\u001b[1;32m--> 121\u001b[0m     \u001b[38;5;28mself\u001b[39m\u001b[38;5;241m.\u001b[39mstan_fit \u001b[38;5;241m=\u001b[39m \u001b[38;5;28mself\u001b[39m\u001b[38;5;241m.\u001b[39mmodel\u001b[38;5;241m.\u001b[39moptimize(\u001b[38;5;241m*\u001b[39m\u001b[38;5;241m*\u001b[39margs)\n\u001b[0;32m    122\u001b[0m \u001b[38;5;28;01mexcept\u001b[39;00m \u001b[38;5;167;01mRuntimeError\u001b[39;00m \u001b[38;5;28;01mas\u001b[39;00m e:\n\u001b[0;32m    123\u001b[0m     \u001b[38;5;66;03m# Fall back on Newton\u001b[39;00m\n",
      "File \u001b[1;32mc:\\Logiciels\\anaconda3\\Lib\\site-packages\\cmdstanpy\\model.py:659\u001b[0m, in \u001b[0;36mCmdStanModel.optimize\u001b[1;34m(self, data, seed, inits, output_dir, sig_figs, save_profile, algorithm, init_alpha, tol_obj, tol_rel_obj, tol_grad, tol_rel_grad, tol_param, history_size, iter, save_iterations, require_converged, show_console, refresh, time_fmt, timeout, jacobian)\u001b[0m\n\u001b[0;32m    658\u001b[0m     \u001b[38;5;28;01melse\u001b[39;00m:\n\u001b[1;32m--> 659\u001b[0m         \u001b[38;5;28;01mraise\u001b[39;00m \u001b[38;5;167;01mRuntimeError\u001b[39;00m(msg)\n\u001b[0;32m    660\u001b[0m mle \u001b[38;5;241m=\u001b[39m CmdStanMLE(runset)\n",
      "\u001b[1;31mRuntimeError\u001b[0m: Error during optimization! Command 'C:\\Logiciels\\anaconda3\\Lib\\site-packages\\prophet\\stan_model\\prophet_model.bin random seed=13152 data file=C:\\Users\\146657\\AppData\\Local\\Temp\\tmp8frkr000\\xkh5z4d8.json init=C:\\Users\\146657\\AppData\\Local\\Temp\\tmp8frkr000\\sdgrn9ee.json output file=C:\\Users\\146657\\AppData\\Local\\Temp\\tmp8frkr000\\prophet_modell5l0de_8\\prophet_model-20240925173339.csv method=optimize algorithm=lbfgs iter=10000' failed: ",
      "\nDuring handling of the above exception, another exception occurred:\n",
      "\u001b[1;31mRuntimeError\u001b[0m                              Traceback (most recent call last)",
      "Cell \u001b[1;32mIn[6], line 6\u001b[0m\n\u001b[0;32m      4\u001b[0m \u001b[38;5;66;03m# Initialiser et entraîner le modèle Prophet\u001b[39;00m\n\u001b[0;32m      5\u001b[0m model \u001b[38;5;241m=\u001b[39m Prophet(weekly_seasonality\u001b[38;5;241m=\u001b[39m\u001b[38;5;28;01mTrue\u001b[39;00m, daily_seasonality\u001b[38;5;241m=\u001b[39m\u001b[38;5;28;01mFalse\u001b[39;00m)\n\u001b[1;32m----> 6\u001b[0m model\u001b[38;5;241m.\u001b[39mfit(df_for_prophet)\n\u001b[0;32m      8\u001b[0m \u001b[38;5;66;03m# Faire des prédictions pour les 7 prochains jours\u001b[39;00m\n\u001b[0;32m      9\u001b[0m future \u001b[38;5;241m=\u001b[39m model\u001b[38;5;241m.\u001b[39mmake_future_dataframe(periods\u001b[38;5;241m=\u001b[39m\u001b[38;5;241m7\u001b[39m)\n",
      "File \u001b[1;32mc:\\Logiciels\\anaconda3\\Lib\\site-packages\\prophet\\forecaster.py:1232\u001b[0m, in \u001b[0;36mProphet.fit\u001b[1;34m(self, df, **kwargs)\u001b[0m\n\u001b[0;32m   1230\u001b[0m     \u001b[38;5;28mself\u001b[39m\u001b[38;5;241m.\u001b[39mparams \u001b[38;5;241m=\u001b[39m \u001b[38;5;28mself\u001b[39m\u001b[38;5;241m.\u001b[39mstan_backend\u001b[38;5;241m.\u001b[39msampling(stan_init, dat, \u001b[38;5;28mself\u001b[39m\u001b[38;5;241m.\u001b[39mmcmc_samples, \u001b[38;5;241m*\u001b[39m\u001b[38;5;241m*\u001b[39mkwargs)\n\u001b[0;32m   1231\u001b[0m \u001b[38;5;28;01melse\u001b[39;00m:\n\u001b[1;32m-> 1232\u001b[0m     \u001b[38;5;28mself\u001b[39m\u001b[38;5;241m.\u001b[39mparams \u001b[38;5;241m=\u001b[39m \u001b[38;5;28mself\u001b[39m\u001b[38;5;241m.\u001b[39mstan_backend\u001b[38;5;241m.\u001b[39mfit(stan_init, dat, \u001b[38;5;241m*\u001b[39m\u001b[38;5;241m*\u001b[39mkwargs)\n\u001b[0;32m   1234\u001b[0m \u001b[38;5;28mself\u001b[39m\u001b[38;5;241m.\u001b[39mstan_fit \u001b[38;5;241m=\u001b[39m \u001b[38;5;28mself\u001b[39m\u001b[38;5;241m.\u001b[39mstan_backend\u001b[38;5;241m.\u001b[39mstan_fit\n\u001b[0;32m   1235\u001b[0m \u001b[38;5;66;03m# If no changepoints were requested, replace delta with 0s\u001b[39;00m\n",
      "File \u001b[1;32mc:\\Logiciels\\anaconda3\\Lib\\site-packages\\prophet\\models.py:128\u001b[0m, in \u001b[0;36mCmdStanPyBackend.fit\u001b[1;34m(self, stan_init, stan_data, **kwargs)\u001b[0m\n\u001b[0;32m    126\u001b[0m     logger\u001b[38;5;241m.\u001b[39mwarning(\u001b[38;5;124m'\u001b[39m\u001b[38;5;124mOptimization terminated abnormally. Falling back to Newton.\u001b[39m\u001b[38;5;124m'\u001b[39m)\n\u001b[0;32m    127\u001b[0m     args[\u001b[38;5;124m'\u001b[39m\u001b[38;5;124malgorithm\u001b[39m\u001b[38;5;124m'\u001b[39m] \u001b[38;5;241m=\u001b[39m \u001b[38;5;124m'\u001b[39m\u001b[38;5;124mNewton\u001b[39m\u001b[38;5;124m'\u001b[39m\n\u001b[1;32m--> 128\u001b[0m     \u001b[38;5;28mself\u001b[39m\u001b[38;5;241m.\u001b[39mstan_fit \u001b[38;5;241m=\u001b[39m \u001b[38;5;28mself\u001b[39m\u001b[38;5;241m.\u001b[39mmodel\u001b[38;5;241m.\u001b[39moptimize(\u001b[38;5;241m*\u001b[39m\u001b[38;5;241m*\u001b[39margs)\n\u001b[0;32m    129\u001b[0m params \u001b[38;5;241m=\u001b[39m \u001b[38;5;28mself\u001b[39m\u001b[38;5;241m.\u001b[39mstan_to_dict_numpy(\n\u001b[0;32m    130\u001b[0m     \u001b[38;5;28mself\u001b[39m\u001b[38;5;241m.\u001b[39mstan_fit\u001b[38;5;241m.\u001b[39mcolumn_names, \u001b[38;5;28mself\u001b[39m\u001b[38;5;241m.\u001b[39mstan_fit\u001b[38;5;241m.\u001b[39moptimized_params_np)\n\u001b[0;32m    131\u001b[0m \u001b[38;5;28;01mfor\u001b[39;00m par \u001b[38;5;129;01min\u001b[39;00m params:\n",
      "File \u001b[1;32mc:\\Logiciels\\anaconda3\\Lib\\site-packages\\cmdstanpy\\model.py:659\u001b[0m, in \u001b[0;36mCmdStanModel.optimize\u001b[1;34m(self, data, seed, inits, output_dir, sig_figs, save_profile, algorithm, init_alpha, tol_obj, tol_rel_obj, tol_grad, tol_rel_grad, tol_param, history_size, iter, save_iterations, require_converged, show_console, refresh, time_fmt, timeout, jacobian)\u001b[0m\n\u001b[0;32m    657\u001b[0m         get_logger()\u001b[38;5;241m.\u001b[39mwarning(msg)\n\u001b[0;32m    658\u001b[0m     \u001b[38;5;28;01melse\u001b[39;00m:\n\u001b[1;32m--> 659\u001b[0m         \u001b[38;5;28;01mraise\u001b[39;00m \u001b[38;5;167;01mRuntimeError\u001b[39;00m(msg)\n\u001b[0;32m    660\u001b[0m mle \u001b[38;5;241m=\u001b[39m CmdStanMLE(runset)\n\u001b[0;32m    661\u001b[0m \u001b[38;5;28;01mreturn\u001b[39;00m mle\n",
      "\u001b[1;31mRuntimeError\u001b[0m: Error during optimization! Command 'C:\\Logiciels\\anaconda3\\Lib\\site-packages\\prophet\\stan_model\\prophet_model.bin random seed=72574 data file=C:\\Users\\146657\\AppData\\Local\\Temp\\tmp8frkr000\\qpt6wpd2.json init=C:\\Users\\146657\\AppData\\Local\\Temp\\tmp8frkr000\\urydphkz.json output file=C:\\Users\\146657\\AppData\\Local\\Temp\\tmp8frkr000\\prophet_model92h34cm2\\prophet_model-20240925173339.csv method=optimize algorithm=newton iter=10000' failed: "
     ]
    }
   ],
   "source": [
    "# Préparer les données pour Prophet\n",
    "df_for_prophet = weekly_revenue.rename(columns={'Order Date': 'ds', 'Revenue': 'y'}).dropna()\n",
    "\n",
    "# Initialiser et entraîner le modèle Prophet\n",
    "model = Prophet(weekly_seasonality=True, daily_seasonality=False)\n",
    "model.fit(df_for_prophet)\n",
    "\n",
    "# Faire des prédictions pour les 7 prochains jours\n",
    "future = model.make_future_dataframe(periods=7)\n",
    "forecast = model.predict(future)\n",
    "\n",
    "# Visualiser les prévisions\n",
    "model.plot(forecast)\n",
    "plt.show()"
   ]
  },
  {
   "cell_type": "code",
   "execution_count": 3,
   "metadata": {},
   "outputs": [
    {
     "ename": "NameError",
     "evalue": "name 'forecast' is not defined",
     "output_type": "error",
     "traceback": [
      "\u001b[1;31m---------------------------------------------------------------------------\u001b[0m",
      "\u001b[1;31mNameError\u001b[0m                                 Traceback (most recent call last)",
      "Cell \u001b[1;32mIn[3], line 7\u001b[0m\n\u001b[0;32m      5\u001b[0m \u001b[38;5;66;03m# Utiliser le DataFrame correct pour obtenir les vraies valeurs\u001b[39;00m\n\u001b[0;32m      6\u001b[0m y_true \u001b[38;5;241m=\u001b[39m df_for_prophet[\u001b[38;5;124m'\u001b[39m\u001b[38;5;124my\u001b[39m\u001b[38;5;124m'\u001b[39m]\u001b[38;5;241m.\u001b[39mvalues[\u001b[38;5;241m-\u001b[39m\u001b[38;5;241m7\u001b[39m:]  \u001b[38;5;66;03m# Les dernières 7 valeurs de l'ensemble d'entraînement\u001b[39;00m\n\u001b[1;32m----> 7\u001b[0m y_pred \u001b[38;5;241m=\u001b[39m forecast[\u001b[38;5;124m'\u001b[39m\u001b[38;5;124myhat\u001b[39m\u001b[38;5;124m'\u001b[39m]\u001b[38;5;241m.\u001b[39mvalues[\u001b[38;5;241m-\u001b[39m\u001b[38;5;241m7\u001b[39m:]  \u001b[38;5;66;03m# Les dernières 7 valeurs prédites\u001b[39;00m\n\u001b[0;32m      9\u001b[0m \u001b[38;5;66;03m# Calculer le RMSE\u001b[39;00m\n\u001b[0;32m     10\u001b[0m rmse \u001b[38;5;241m=\u001b[39m np\u001b[38;5;241m.\u001b[39msqrt(mean_squared_error(y_true, y_pred))\n",
      "\u001b[1;31mNameError\u001b[0m: name 'forecast' is not defined"
     ]
    }
   ],
   "source": [
    "# Comparer les prévisions avec les données réelles (si disponibles)\n",
    "from sklearn.metrics import mean_squared_error\n",
    "import numpy as np\n",
    "\n",
    "# Utiliser le DataFrame correct pour obtenir les vraies valeurs\n",
    "y_true = df_for_prophet['y'].values[-7:]  # Les dernières 7 valeurs de l'ensemble d'entraînement\n",
    "y_pred = forecast['yhat'].values[-7:]  # Les dernières 7 valeurs prédites\n",
    "\n",
    "# Calculer le RMSE\n",
    "rmse = np.sqrt(mean_squared_error(y_true, y_pred))\n",
    "print(f\"RMSE: {rmse}\")"
   ]
  }
 ],
 "metadata": {
  "kernelspec": {
   "display_name": "base",
   "language": "python",
   "name": "python3"
  },
  "language_info": {
   "codemirror_mode": {
    "name": "ipython",
    "version": 3
   },
   "file_extension": ".py",
   "mimetype": "text/x-python",
   "name": "python",
   "nbconvert_exporter": "python",
   "pygments_lexer": "ipython3",
   "version": "3.11.9"
  }
 },
 "nbformat": 4,
 "nbformat_minor": 2
}
